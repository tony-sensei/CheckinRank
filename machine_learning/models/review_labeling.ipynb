{
 "cells": [
  {
   "cell_type": "markdown",
   "metadata": {},
   "source": [
    "Split the task for labeling"
   ]
  },
  {
   "cell_type": "code",
   "execution_count": 1,
   "metadata": {
    "collapsed": true
   },
   "outputs": [],
   "source": [
    "import pandas as pd\n",
    "\n",
    "# Read the reviews.csv file\n",
    "reviews = pd.read_csv('../data/reviews.csv')\n",
    "\n",
    "# Take the first 2000 samples\n",
    "reviews = reviews.head(2000)\n",
    "\n",
    "reviews.to_csv('v1/reviews_2000.csv', index=False)\n"
   ]
  },
  {
   "cell_type": "markdown",
   "metadata": {},
   "source": [
    "get the remaining reviews"
   ]
  },
  {
   "cell_type": "code",
   "execution_count": 1,
   "metadata": {},
   "outputs": [],
   "source": [
    "import pandas as pd\n",
    "\n",
    "# Read the reviews.csv file\n",
    "reviews = pd.read_csv('../data/reviews.csv')\n",
    "reviews_remaining = reviews.iloc[2000:]\n",
    "\n",
    "reviews_remaining.to_csv(\"v1/remaining.csv\", index = False)\n"
   ]
  },
  {
   "cell_type": "code",
   "execution_count": 2,
   "metadata": {},
   "outputs": [
    {
     "data": {
      "text/plain": [
       "(4622338, 1)"
      ]
     },
     "execution_count": 2,
     "metadata": {},
     "output_type": "execute_result"
    }
   ],
   "source": [
    "reviews_remaining.shape"
   ]
  },
  {
   "cell_type": "code",
   "execution_count": 2,
   "metadata": {},
   "outputs": [],
   "source": [
    "import pandas as pd\n",
    "import json\n",
    "\n",
    "with open('v3/annotation_500_2.json', 'r') as f:\n",
    "    data = json.load(f)\n",
    "\n",
    "# Convert JSON data to a DataFrame\n",
    "df = pd.DataFrame(data)\n",
    "\n",
    "# Mapping labels to integers\n",
    "label_mapping = {\"Not Mention\": 0, \"Positive\": 1, \"Negative\": -1}\n",
    "df[\"wait_time\"] = df[\"wait_time\"].map(label_mapping)\n",
    "df[\"food_quality\"] = df[\"food_quality\"].map(label_mapping)\n",
    "df[\"environment_quality\"] = df[\"environment_quality\"].map(label_mapping)\n",
    "df[\"service_quality\"] = df[\"service_quality\"].map(label_mapping)\n",
    "\n",
    "# Reorder columns\n",
    "df = df[[\"review\", \"wait_time\", \"food_quality\", \"environment_quality\", \"service_quality\"]]\n",
    "\n",
    "# Export DataFrame to CSV\n",
    "df.to_csv(\"v3/merged_reviews_annotations_500_2.csv\", index=False)"
   ]
  },
  {
   "cell_type": "code",
   "execution_count": 1,
   "metadata": {},
   "outputs": [
    {
     "ename": "NameError",
     "evalue": "name 'pd' is not defined",
     "output_type": "error",
     "traceback": [
      "\u001B[0;31m---------------------------------------------------------------------------\u001B[0m",
      "\u001B[0;31mNameError\u001B[0m                                 Traceback (most recent call last)",
      "Cell \u001B[0;32mIn[1], line 1\u001B[0m\n\u001B[0;32m----> 1\u001B[0m df \u001B[38;5;241m=\u001B[39m \u001B[43mpd\u001B[49m\u001B[38;5;241m.\u001B[39mread_csv(\u001B[38;5;124m\"\u001B[39m\u001B[38;5;124mv3/merged_reviews_annotations_500_2.csv\u001B[39m\u001B[38;5;124m\"\u001B[39m)\n\u001B[1;32m      3\u001B[0m \u001B[38;5;66;03m# Convert the columns to integers\u001B[39;00m\n\u001B[1;32m      4\u001B[0m columns_to_convert \u001B[38;5;241m=\u001B[39m [\u001B[38;5;124m\"\u001B[39m\u001B[38;5;124mwait_time\u001B[39m\u001B[38;5;124m\"\u001B[39m, \u001B[38;5;124m\"\u001B[39m\u001B[38;5;124mfood_quality\u001B[39m\u001B[38;5;124m\"\u001B[39m, \u001B[38;5;124m\"\u001B[39m\u001B[38;5;124menvironment_quality\u001B[39m\u001B[38;5;124m\"\u001B[39m, \u001B[38;5;124m\"\u001B[39m\u001B[38;5;124mservice_quality\u001B[39m\u001B[38;5;124m\"\u001B[39m]\n",
      "\u001B[0;31mNameError\u001B[0m: name 'pd' is not defined"
     ]
    }
   ],
   "source": [
    "df = pd.read_csv(\"v3/merged_reviews_annotations_500_2.csv\")\n",
    "\n",
    "# Convert the columns to integers\n",
    "columns_to_convert = [\"wait_time\", \"food_quality\", \"environment_quality\", \"service_quality\"]\n",
    "df[columns_to_convert] = df[columns_to_convert].astype(int)\n",
    "\n",
    "# Export DataFrame to CSV\n",
    "df.to_csv(\"v3/merged_reviews_annotations_500_2.csv\", index=False)"
   ]
  },
  {
   "cell_type": "code",
   "execution_count": null,
   "outputs": [],
   "source": [],
   "metadata": {
    "collapsed": false
   }
  }
 ],
 "metadata": {
  "kernelspec": {
   "display_name": "Python 3 (ipykernel)",
   "language": "python",
   "name": "python3"
  },
  "language_info": {
   "codemirror_mode": {
    "name": "ipython",
    "version": 3
   },
   "file_extension": ".py",
   "mimetype": "text/x-python",
   "name": "python",
   "nbconvert_exporter": "python",
   "pygments_lexer": "ipython3",
   "version": "3.10.5"
  }
 },
 "nbformat": 4,
 "nbformat_minor": 1
}
